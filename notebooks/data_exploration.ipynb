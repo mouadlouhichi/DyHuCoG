{
 "cells": [
  {
   "cell_type": "markdown",
   "metadata": {},
   "source": [
    "# Data Exploration for DyHuCoG\n",
    "\n",
    "This notebook explores the MovieLens dataset and provides insights for the DyHuCoG model."
   ]
  },
  {
   "cell_type": "code",
   "execution_count": null,
   "metadata": {},
   "outputs": [],
   "source": [
    "import sys\n",
    "import pandas as pd\n",
    "import numpy as np\n",
    "import matplotlib.pyplot as plt\n",
    "import seaborn as sns\n",
    "from pathlib import Path\n",
    "\n",
    "# Add parent directory to path\n",
    "sys.path.append('..')\n",
    "\n",
    "from src.data.dataset import RecommenderDataset\n",
    "\n",
    "# Set style\n",
    "plt.style.use('seaborn-v0_8-darkgrid')\n",
    "sns.set_palette('husl')\n",
    "%matplotlib inline"
   ]
  },
  {
   "cell_type": "markdown",
   "metadata": {},
   "source": [
    "## 1. Load Dataset"
   ]
  },
  {
   "cell_type": "code",
   "execution_count": null,
   "metadata": {},
   "outputs": [],
   "source": [
    "# Load MovieLens-100K dataset\n",
    "dataset = RecommenderDataset(\n",
    "    name='ml-100k',\n",
    "    path='../data/',\n",
    "    test_size=0.2,\n",
    "    val_size=0.1\n",
    ")\n",
    "\n",
    "print(f\"Dataset loaded successfully!\")\n",
    "print(f\"Number of users: {dataset.n_users}\")\n",
    "print(f\"Number of items: {dataset.n_items}\")\n",
    "print(f\"Number of interactions: {dataset.n_interactions}\")\n",
    "print(f\"Number of genres: {dataset.n_genres}\")"
   ]
  },
  {
   "cell_type": "markdown",
   "metadata": {},
   "source": [
    "## 2. Basic Statistics"
   ]
  },
  {
   "cell_type": "code",
   "execution_count": null,
   "metadata": {},
   "outputs": [],
   "source": [
    "# Get dataset statistics\n",
    "stats = dataset.get_statistics()\n",
    "\n",
    "print(\"Dataset Statistics:\")\n",
    "print(\"-\" * 40)\n",
    "for key, value in stats.items():\n",
    "    print(f\"{key}: {value:.4f}\" if isinstance(value, float) else f\"{key}: {value}\")"
   ]
  },
  {
   "cell_type": "code",
   "execution_count": null,
   "metadata": {},
   "outputs": [],
   "source": [
    "# Data splits\n",
    "print(f\"\\nData Splits:\")\n",
    "print(f\"Training interactions: {len(dataset.train_ratings)}\")\n",
    "print(f\"Validation interactions: {len(dataset.val_ratings)}\")\n",
    "print(f\"Test interactions: {len(dataset.test_ratings)}\")\n",
    "\n",
    "# User groups\n",
    "print(f\"\\nUser Groups:\")\n",
    "print(f\"Cold users (< 5 interactions): {len(dataset.cold_users)}\")\n",
    "print(f\"Warm users (5-20 interactions): {len(dataset.warm_users)}\")\n",
    "print(f\"Hot users (> 20 interactions): {len(dataset.hot_users)}\")"
   ]
  },
  {
   "cell_type": "markdown",
   "metadata": {},
   "source": [
    "## 3. Distribution Analysis"
   ]
  },
  {
   "cell_type": "code",
   "execution_count": null,
   "metadata": {},
   "outputs": [],
   "source": [
    "# User interaction distribution\n",
    "user_counts = dataset.train_ratings['user'].value_counts()\n",
    "\n",
    "fig, axes = plt.subplots(2, 2, figsize=(14, 10))\n",
    "\n",
    "# 1. User interaction histogram\n",
    "axes[0, 0].hist(user_counts.values, bins=50, edgecolor='black', alpha=0.7)\n",
    "axes[0, 0].set_xlabel('Number of Interactions')\n",
    "axes[0, 0].set_ylabel('Number of Users')\n",
    "axes[0, 0].set_title('User Interaction Distribution')\n",
    "axes[0, 0].axvline(x=5, color='red', linestyle='--', label='Cold threshold')\n",
    "axes[0, 0].axvline(x=20, color='orange', linestyle='--', label='Warm threshold')\n",
    "axes[0, 0].legend()\n",
    "\n",
    "# 2. Item popularity distribution\n",
    "item_counts = dataset.train_ratings['item'].value_counts()\n",
    "axes[0, 1].hist(item_counts.values, bins=50, edgecolor='black', alpha=0.7, color='green')\n",
    "axes[0, 1].set_xlabel('Number of Interactions')\n",
    "axes[0, 1].set_ylabel('Number of Items')\n",
    "axes[0, 1].set_title('Item Popularity Distribution')\n",
    "\n",
    "# 3. Log-log plot of user activity\n",
    "sorted_counts = sorted(user_counts.values, reverse=True)\n",
    "axes[1, 0].loglog(range(1, len(sorted_counts) + 1), sorted_counts, 'b-', linewidth=2)\n",
    "axes[1, 0].set_xlabel('User Rank (log)')\n",
    "axes[1, 0].set_ylabel('Number of Interactions (log)')\n",
    "axes[1, 0].set_title('User Activity Power Law')\n",
    "axes[1, 0].grid(True, which=\"both\", alpha=0.3)\n",
    "\n",
    "# 4. Temporal distribution\n",
    "timestamps = dataset.train_ratings['timestamp']\n",
    "axes[1, 1].hist(pd.to_datetime(timestamps, unit='s'), bins=50, edgecolor='black', alpha=0.7, color='purple')\n",
    "axes[1, 1].set_xlabel('Time')\n",
    "axes[1, 1].set_ylabel('Number of Interactions')\n",
    "axes[1, 1].set_title('Temporal Distribution of Interactions')\n",
    "axes[1, 1].tick_params(axis='x', rotation=45)\n",
    "\n",
    "plt.tight_layout()\n",
    "plt.show()"
   ]
  },
  {
   "cell_type": "markdown",
   "metadata": {},
   "source": [
    "## 4. Genre Analysis"
   ]
  },
  {
   "cell_type": "code",
   "execution_count": null,
   "metadata": {},
   "outputs": [],
   "source": [
    "# Genre distribution\n",
    "genre_counts = {genre: 0 for genre in dataset.genre_cols}\n",
    "\n",
    "for item_id, genres in dataset.item_genres.items():\n",
    "    for genre_idx in genres:\n",
    "        genre_counts[dataset.genre_cols[genre_idx]] += 1\n",
    "\n",
    "# Plot genre distribution\n",
    "plt.figure(figsize=(12, 6))\n",
    "genres = list(genre_counts.keys())\n",
    "counts = list(genre_counts.values())\n",
    "\n",
    "plt.bar(genres, counts, color='skyblue', edgecolor='black')\n",
    "plt.xlabel('Genre')\n",
    "plt.ylabel('Number of Movies')\n",
    "plt.title('Movie Genre Distribution')\n",
    "plt.xticks(rotation=45, ha='right')\n",
    "plt.tight_layout()\n",
    "plt.show()"
   ]
  },
  {
   "cell_type": "code",
   "execution_count": null,
   "metadata": {},
   "outputs": [],
   "source": [
    "# Genre co-occurrence matrix\n",
    "n_genres = len(dataset.genre_cols)\n",
    "co_occurrence = np.zeros((n_genres, n_genres))\n",
    "\n",
    "for item_id, genres in dataset.item_genres.items():\n",
    "    for i in genres:\n",
    "        for j in genres:\n",
    "            co_occurrence[i, j] += 1\n",
    "\n",
    "# Normalize by diagonal\n",
    "for i in range(n_genres):\n",
    "    if co_occurrence[i, i] > 0:\n",
    "        co_occurrence[i, :] /= co_occurrence[i, i]\n",
    "\n",
    "# Plot heatmap\n",
    "plt.figure(figsize=(12, 10))\n",
    "sns.heatmap(co_occurrence, \n",
    "            xticklabels=dataset.genre_cols,\n",
    "            yticklabels=dataset.genre_cols,\n",
    "            cmap='YlOrRd',\n",
    "            annot=True,\n",
    "            fmt='.2f',\n",
    "            cbar_kws={'label': 'Co-occurrence Probability'})\n",
    "plt.title('Genre Co-occurrence Matrix')\n",
    "plt.tight_layout()\n",
    "plt.show()"
   ]
  },
  {
   "cell_type": "markdown",
   "metadata": {},
   "source": [
    "## 5. User Preference Analysis"
   ]
  },
  {
   "cell_type": "code",
   "execution_count": null,
   "metadata": {},
   "outputs": [],
   "source": [
    "# Analyze genre preferences by user group\n",
    "def get_user_genre_preferences(user_list, dataset):\n",
    "    genre_prefs = np.zeros(dataset.n_genres)\n",
    "    total_items = 0\n",
    "    \n",
    "    for user in user_list:\n",
    "        user_items = dataset.train_mat[user].nonzero()[0]\n",
    "        for item_idx in user_items:\n",
    "            item_id = item_idx.item() + 1\n",
    "            if item_id in dataset.item_genres:\n",
    "                for genre in dataset.item_genres[item_id]:\n",
    "                    genre_prefs[genre] += 1\n",
    "                total_items += 1\n",
    "    \n",
    "    if total_items > 0:\n",
    "        genre_prefs /= total_items\n",
    "    \n",
    "    return genre_prefs\n",
    "\n",
    "# Get preferences for each user group\n",
    "cold_prefs = get_user_genre_preferences(dataset.cold_users[:50], dataset)\n",
    "warm_prefs = get_user_genre_preferences(dataset.warm_users[:50], dataset)\n",
    "hot_prefs = get_user_genre_preferences(dataset.hot_users[:50], dataset)\n",
    "\n",
    "# Plot comparison\n",
    "x = np.arange(len(dataset.genre_cols))\n",
    "width = 0.25\n",
    "\n",
    "fig, ax = plt.subplots(figsize=(14, 6))\n",
    "ax.bar(x - width, cold_prefs, width, label='Cold Users', color='blue', alpha=0.7)\n",
    "ax.bar(x, warm_prefs, width, label='Warm Users', color='orange', alpha=0.7)\n",
    "ax.bar(x + width, hot_prefs, width, label='Hot Users', color='red', alpha=0.7)\n",
    "\n",
    "ax.set_xlabel('Genre')\n",
    "ax.set_ylabel('Preference Score')\n",
    "ax.set_title('Genre Preferences by User Group')\n",
    "ax.set_xticks(x)\n",
    "ax.set_xticklabels(dataset.genre_cols, rotation=45, ha='right')\n",
    "ax.legend()\n",
    "ax.grid(True, alpha=0.3)\n",
    "\n",
    "plt.tight_layout()\n",
    "plt.show()"
   ]
  },
  {
   "cell_type": "markdown",
   "metadata": {},
   "source": [
    "## 6. Sparsity Analysis"
   ]
  },
  {
   "cell_type": "code",
   "execution_count": null,
   "metadata": {},
   "outputs": [],
   "source": [
    "# Visualize sparsity pattern\n",
    "# Sample a subset for visualization\n",
    "sample_users = 100\n",
    "sample_items = 100\n",
    "\n",
    "# Get the most active users and popular items\n",
    "top_users = user_counts.head(sample_users).index.tolist()\n",
    "top_items = item_counts.head(sample_items).index.tolist()\n",
    "\n",
    "# Create interaction matrix for visualization\n",
    "interaction_matrix = np.zeros((sample_users, sample_items))\n",
    "for i, user in enumerate(top_users):\n",
    "    for j, item in enumerate(top_items):\n",
    "        if dataset.train_mat[user, item] > 0:\n",
    "            interaction_matrix[i, j] = 1\n",
    "\n",
    "# Plot sparsity pattern\n",
    "plt.figure(figsize=(10, 8))\n",
    "plt.imshow(interaction_matrix, cmap='Blues', aspect='auto', interpolation='nearest')\n",
    "plt.colorbar(label='Interaction')\n",
    "plt.xlabel('Items (sorted by popularity)')\n",
    "plt.ylabel('Users (sorted by activity)')\n",
    "plt.title(f'Interaction Matrix Sparsity Pattern\\n(Top {sample_users} users × Top {sample_items} items)')\n",
    "plt.tight_layout()\n",
    "plt.show()\n",
    "\n",
    "# Calculate and display sparsity\n",
    "sparsity = 1 - (interaction_matrix.sum() / (sample_users * sample_items))\n",
    "print(f\"Sparsity of displayed subset: {sparsity:.2%}\")\n",
    "print(f\"Overall dataset sparsity: {1 - stats['density']:.2%}\")"
   ]
  },
  {
   "cell_type": "markdown",
   "metadata": {},
   "source": [
    "## 7. Graph Structure Preview"
   ]
  },
  {
   "cell_type": "code",
   "execution_count": null,
   "metadata": {},
   "outputs": [],
   "source": [
    "# Analyze graph properties\n",
    "from src.utils.graph_builder import GraphBuilder\n",
    "\n",
    "# Build user-item graph\n",
    "ui_adj, ui_nodes = GraphBuilder.build_user_item_graph(dataset)\n",
    "print(f\"User-Item Graph:\")\n",
    "print(f\"  Number of nodes: {ui_nodes}\")\n",
    "print(f\"  Number of edges: {ui_adj._nnz()}\")\n",
    "print(f\"  Average degree: {ui_adj._nnz() / ui_nodes:.2f}\")\n",
    "\n",
    "# Build hypergraph\n",
    "hyper_adj, hyper_nodes = GraphBuilder.build_hypergraph(dataset)\n",
    "print(f\"\\nHypergraph (with genres):\")\n",
    "print(f\"  Number of nodes: {hyper_nodes}\")\n",
    "print(f\"  Number of edges: {hyper_adj._nnz()}\")\n",
    "print(f\"  Average degree: {hyper_adj._nnz() / hyper_nodes:.2f}\")"
   ]
  },
  {
   "cell_type": "markdown",
   "metadata": {},
   "source": [
    "## 8. Save Processed Statistics"
   ]
  },
  {
   "cell_type": "code",
   "execution_count": null,
   "metadata": {},
   "outputs": [],
   "source": [
    "# Save key statistics for reference\n",
    "summary_stats = {\n",
    "    'dataset': 'MovieLens-100K',\n",
    "    'n_users': dataset.n_users,\n",
    "    'n_items': dataset.n_items,\n",
    "    'n_genres': dataset.n_genres,\n",
    "    'n_interactions': dataset.n_interactions,\n",
    "    'density': stats['density'],\n",
    "    'avg_user_interactions': stats['avg_interactions_per_user'],\n",
    "    'avg_item_interactions': stats['avg_interactions_per_item'],\n",
    "    'n_cold_users': len(dataset.cold_users),\n",
    "    'n_warm_users': len(dataset.warm_users),\n",
    "    'n_hot_users': len(dataset.hot_users),\n",
    "    'train_size': len(dataset.train_ratings),\n",
    "    'val_size': len(dataset.val_ratings),\n",
    "    'test_size': len(dataset.test_ratings)\n",
    "}\n",
    "\n",
    "# Display summary\n",
    "print(\"Dataset Summary for DyHuCoG:\")\n",
    "print(\"=\" * 50)\n",
    "for key, value in summary_stats.items():\n",
    "    print(f\"{key}: {value}\")"
   ]
  }
 ],
 "metadata": {
  "kernelspec": {
   "display_name": "Python 3",
   "language": "python",
   "name": "python3"
  },
  "language_info": {
   "codemirror_mode": {
    "name": "ipython",
    "version": 3
   },
   "file_extension": ".py",
   "mimetype": "text/x-python",
   "name": "python",
   "nbconvert_exporter": "python",
   "pygments_lexer": "ipython3",
   "version": "3.8.0"
  }
 },
 "nbformat": 4,
 "nbformat_minor": 4
}